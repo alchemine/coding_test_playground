{
 "cells": [
  {
   "cell_type": "code",
   "execution_count": 3,
   "id": "7a31a35c",
   "metadata": {
    "pycharm": {
     "name": "#%%\n"
    }
   },
   "outputs": [],
   "source": [
    "import re"
   ]
  },
  {
   "cell_type": "markdown",
   "id": "07c4b762",
   "metadata": {
    "pycharm": {
     "name": "#%% md\n"
    }
   },
   "source": [
    "# 1. Find Substring"
   ]
  },
  {
   "cell_type": "code",
   "execution_count": 2,
   "id": "345c9a03",
   "metadata": {
    "pycharm": {
     "name": "#%%\n"
    }
   },
   "outputs": [
    {
     "name": "stdout",
     "output_type": "stream",
     "text": [
      "<re.Match object; span=(0, 12), match='123ABCtarget'> \t 123ABCtarget\n"
     ]
    }
   ],
   "source": [
    "s = \"123ABCtarget tar get targetDEF456 789GHI\"\n",
    "p = r\"[^\\s]*target[^\\s]*\"\n",
    "\n",
    "rst = re.search(p, s)\n",
    "print(rst, '\\t', rst.group())"
   ]
  },
  {
   "cell_type": "code",
   "execution_count": 3,
   "id": "e9f11f58",
   "metadata": {
    "pycharm": {
     "name": "#%%\n"
    }
   },
   "outputs": [
    {
     "name": "stdout",
     "output_type": "stream",
     "text": [
      "['123ABCtarget', 'targetDEF456']\n"
     ]
    }
   ],
   "source": [
    "s = \"123ABCtarget tar get targetDEF456 789GHI\"\n",
    "p = r\"[^\\s]*target[^\\s]*\"\n",
    "\n",
    "rst = re.findall(p, s)\n",
    "print(rst)"
   ]
  },
  {
   "cell_type": "code",
   "execution_count": 4,
   "id": "ee0ed33a",
   "metadata": {
    "scrolled": true,
    "pycharm": {
     "name": "#%%\n"
    }
   },
   "outputs": [
    {
     "name": "stdout",
     "output_type": "stream",
     "text": [
      "<re.Match object; span=(0, 12), match='123ABCtarget'> \t 123ABCtarget\n",
      "<re.Match object; span=(21, 33), match='targetDEF456'> \t targetDEF456\n"
     ]
    }
   ],
   "source": [
    "s = \"123ABCtarget tar get targetDEF456 789GHI\"\n",
    "p = r\"[^\\s]*target[^\\s]*\"\n",
    "\n",
    "rst = re.finditer(p, s)\n",
    "for w in rst:\n",
    "    print(w, '\\t', w.group())"
   ]
  },
  {
   "cell_type": "code",
   "execution_count": 5,
   "id": "7ae3be70",
   "metadata": {
    "pycharm": {
     "name": "#%%\n"
    }
   },
   "outputs": [
    {
     "name": "stdout",
     "output_type": "stream",
     "text": [
      "['123ABCtarget', 'target', 'goalDEF789']\n"
     ]
    }
   ],
   "source": [
    "s = \"123ABCtarget tar get targetDEF456 go al goalDEF789\"\n",
    "p = r\"[^\\s]*target|goal[^\\s]*\"\n",
    "\n",
    "rst = re.findall(p, s)\n",
    "print(rst)"
   ]
  },
  {
   "cell_type": "markdown",
   "id": "af41382f",
   "metadata": {
    "pycharm": {
     "name": "#%% md\n"
    }
   },
   "source": [
    "# 2. Replace Substring"
   ]
  },
  {
   "cell_type": "code",
   "execution_count": 6,
   "id": "fbfa6e31",
   "metadata": {
    "pycharm": {
     "name": "#%%\n"
    }
   },
   "outputs": [
    {
     "data": {
      "text/plain": [
       "'_target_ tar get _target_ 789GHI'"
      ]
     },
     "execution_count": 6,
     "metadata": {},
     "output_type": "execute_result"
    }
   ],
   "source": [
    "s = \"123ABCtarget tar get targetDEF456 789GHI\"\n",
    "p = r\"[^\\s]*target[^\\s]*\"\n",
    "\n",
    "rst = re.sub(p, r\"_target_\", s)\n",
    "rst"
   ]
  },
  {
   "cell_type": "markdown",
   "id": "cee40127",
   "metadata": {
    "pycharm": {
     "name": "#%% md\n"
    }
   },
   "source": [
    "# 3. Extract Group"
   ]
  },
  {
   "cell_type": "code",
   "execution_count": 61,
   "id": "be733506",
   "metadata": {
    "pycharm": {
     "name": "#%%\n"
    }
   },
   "outputs": [
    {
     "name": "stdout",
     "output_type": "stream",
     "text": [
      "<re.Match object; span=(0, 12), match='123ABCtarget'> \t 123ABCtarget \t 123ABC \t \n",
      "<re.Match object; span=(21, 33), match='targetDEF456'> \t targetDEF456 \t  \t DEF456\n"
     ]
    }
   ],
   "source": [
    "s = \"123ABCtarget tar get targetDEF456 789GHI\"\n",
    "p = r\"([^\\s]*)target([^\\s]*)\"\n",
    "\n",
    "rst = re.finditer(p, s)\n",
    "for w in rst:\n",
    "    print(w, '\\t', w.group(), '\\t', w.group(1), '\\t', w.group(2))"
   ]
  },
  {
   "cell_type": "markdown",
   "id": "64abf48f",
   "metadata": {
    "pycharm": {
     "name": "#%% md\n"
    }
   },
   "source": [
    "# 4. Replace Group"
   ]
  },
  {
   "cell_type": "code",
   "execution_count": 8,
   "id": "c436524a",
   "metadata": {
    "pycharm": {
     "name": "#%%\n"
    }
   },
   "outputs": [
    {
     "data": {
      "text/plain": [
       "'123ABC tar get DEF456 789GHI'"
      ]
     },
     "execution_count": 8,
     "metadata": {},
     "output_type": "execute_result"
    }
   ],
   "source": [
    "s = \"123ABCtarget tar get targetDEF456 789GHI\"\n",
    "p = r\"([^\\s]*)target([^\\s]*)\"\n",
    "\n",
    "rst = re.sub(p, r'\\g<1>\\g<2>', s)\n",
    "rst"
   ]
  },
  {
   "cell_type": "markdown",
   "id": "4f10ea9f",
   "metadata": {
    "pycharm": {
     "name": "#%% md\n"
    }
   },
   "source": [
    "## 4.1 Naming Group"
   ]
  },
  {
   "cell_type": "code",
   "execution_count": 9,
   "id": "1a4fc213",
   "metadata": {
    "pycharm": {
     "name": "#%%\n"
    }
   },
   "outputs": [
    {
     "name": "stdout",
     "output_type": "stream",
     "text": [
      "123ABC tar get DEF456 789GHI\n",
      "123ABC tar get DEF456 789GHI\n"
     ]
    }
   ],
   "source": [
    "s = \"123ABCtarget tar get targetDEF456 789GHI\"\n",
    "p = r\"(?P<prefix>[^\\s]*)target(?P<suffix>[^\\s]*)\"\n",
    "\n",
    "rst1 = re.sub(p, r'\\g<1>\\g<2>', s)\n",
    "rst2 = re.sub(p, r'\\g<prefix>\\g<suffix>', s)\n",
    "print(rst1)\n",
    "print(rst2)"
   ]
  },
  {
   "cell_type": "markdown",
   "id": "3aca1b81",
   "metadata": {
    "pycharm": {
     "name": "#%% md\n"
    }
   },
   "source": [
    "## 4.2 Conditional Replacement"
   ]
  },
  {
   "cell_type": "code",
   "execution_count": 11,
   "id": "72bd1bf1",
   "metadata": {
    "pycharm": {
     "name": "#%%\n"
    }
   },
   "outputs": [
    {
     "data": {
      "text/plain": [
       "'A: 75.0%, B: 50.0%, C: 25.0%, D: 0.0%'"
      ]
     },
     "execution_count": 11,
     "metadata": {},
     "output_type": "execute_result"
    }
   ],
   "source": [
    "s = \"A: 0.75, B: 0.5, C: 0.25, D: 0\"\n",
    "\n",
    "def float2percent(match):\n",
    "    return f\"{match.group(1)}{100*float(match.group(2))}%\"\n",
    "\n",
    "rst = re.sub(r\"(\\w: )([0-9.]*)\", float2percent, s)\n",
    "rst"
   ]
  }
 ],
 "metadata": {
  "kernelspec": {
   "display_name": "tf_torch",
   "language": "python",
   "name": "tf_torch"
  },
  "language_info": {
   "codemirror_mode": {
    "name": "ipython",
    "version": 3
   },
   "file_extension": ".py",
   "mimetype": "text/x-python",
   "name": "python",
   "nbconvert_exporter": "python",
   "pygments_lexer": "ipython3",
   "version": "3.8.13"
  }
 },
 "nbformat": 4,
 "nbformat_minor": 5
}